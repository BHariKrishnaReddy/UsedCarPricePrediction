{
  "cells": [
    {
      "cell_type": "code",
      "execution_count": 76,
      "id": "ceb08b56",
      "metadata": {
        "id": "ceb08b56"
      },
      "outputs": [],
      "source": [
        "import pandas as pd\n",
        "import numpy as np\n",
        "import matplotlib.pyplot as plt\n",
        "%matplotlib inline\n",
        "import seaborn as sns\n",
        "import warnings\n",
        "import xgboost as xgb\n",
        "warnings.filterwarnings('ignore')"
      ]
    },
    {
      "cell_type": "code",
      "execution_count": 77,
      "id": "b9c9634a",
      "metadata": {
        "id": "b9c9634a"
      },
      "outputs": [],
      "source": [
        "data = pd.read_csv('true_car_listings.csv')"
      ]
    },
    {
      "cell_type": "markdown",
      "id": "0a157f96",
      "metadata": {
        "id": "0a157f96"
      },
      "source": [
        "# Dealing with outliers"
      ]
    },
    {
      "cell_type": "code",
      "execution_count": 78,
      "id": "2859ac88",
      "metadata": {
        "id": "2859ac88",
        "colab": {
          "base_uri": "https://localhost:8080/"
        },
        "outputId": "3d9b866a-165b-46f3-a613-88eab950a9a3"
      },
      "outputs": [
        {
          "output_type": "stream",
          "name": "stdout",
          "text": [
            "9000.0 35998.0\n"
          ]
        },
        {
          "output_type": "execute_result",
          "data": {
            "text/plain": [
              "26998.0"
            ]
          },
          "metadata": {},
          "execution_count": 78
        }
      ],
      "source": [
        "#Handling Outliers on feature price\n",
        "sort_price = sorted(data[\"Price\"])\n",
        "Q1, Q3= np.percentile(sort_price,[10,90])\n",
        "print(Q1,Q3)\n",
        "IQR=Q3-Q1\n",
        "IQR"
      ]
    },
    {
      "cell_type": "code",
      "execution_count": 79,
      "id": "637e2d47",
      "metadata": {
        "colab": {
          "base_uri": "https://localhost:8080/"
        },
        "id": "637e2d47",
        "outputId": "172a2ee3-2f50-4e1f-ce35-8a3a47f99c77"
      },
      "outputs": [
        {
          "output_type": "execute_result",
          "data": {
            "text/plain": [
              "(-31497.0, 76495.0)"
            ]
          },
          "metadata": {},
          "execution_count": 79
        }
      ],
      "source": [
        "lower_limit=Q1-1.5*IQR\n",
        "upper_limit=Q3+1.5*IQR\n",
        "lower_limit,upper_limit"
      ]
    },
    {
      "cell_type": "code",
      "execution_count": 80,
      "id": "30187908",
      "metadata": {
        "colab": {
          "base_uri": "https://localhost:8080/"
        },
        "id": "30187908",
        "outputId": "0bc262f1-47cb-4363-f528-e322cb6d8bf2"
      },
      "outputs": [
        {
          "output_type": "execute_result",
          "data": {
            "text/plain": [
              "(848250, 8)"
            ]
          },
          "metadata": {},
          "execution_count": 80
        }
      ],
      "source": [
        "data=data[(data.Price <= upper_limit) \n",
        "                  & (data.Price >= lower_limit)]\n",
        "data.shape"
      ]
    },
    {
      "cell_type": "code",
      "execution_count": 81,
      "id": "e71fa75b",
      "metadata": {
        "id": "e71fa75b",
        "colab": {
          "base_uri": "https://localhost:8080/"
        },
        "outputId": "db545d37-ec5f-4990-b563-3cd123709966"
      },
      "outputs": [
        {
          "output_type": "stream",
          "name": "stdout",
          "text": [
            "12327.0 109776.09999999998\n",
            "97449.09999999998\n"
          ]
        },
        {
          "output_type": "execute_result",
          "data": {
            "text/plain": [
              "(-133846.64999999997, 255949.74999999994)"
            ]
          },
          "metadata": {},
          "execution_count": 81
        }
      ],
      "source": [
        "#Handling Outliers on feature Mileage\n",
        "sort_mileage = sorted(data[\"Mileage\"])\n",
        "Q1, Q3= np.percentile(sort_mileage,[10,90])\n",
        "print(Q1,Q3)\n",
        "IQR=Q3-Q1\n",
        "print(IQR)\n",
        "lower_limit=Q1-1.5*IQR\n",
        "upper_limit=Q3+1.5*IQR\n",
        "lower_limit,upper_limit\n"
      ]
    },
    {
      "cell_type": "code",
      "execution_count": 82,
      "id": "bcffc902",
      "metadata": {
        "colab": {
          "base_uri": "https://localhost:8080/"
        },
        "id": "bcffc902",
        "outputId": "9c2ac7d4-ade5-4088-8c7a-22e4120d683d"
      },
      "outputs": [
        {
          "output_type": "execute_result",
          "data": {
            "text/plain": [
              "(847166, 8)"
            ]
          },
          "metadata": {},
          "execution_count": 82
        }
      ],
      "source": [
        "data=data[(data.Mileage<= upper_limit) \n",
        "                  & (data.Mileage >= lower_limit)]\n",
        "data.shape"
      ]
    },
    {
      "cell_type": "markdown",
      "id": "fb64db56",
      "metadata": {
        "id": "fb64db56"
      },
      "source": [
        "# Dealing with categorical values"
      ]
    },
    {
      "cell_type": "code",
      "execution_count": 83,
      "id": "srmp0aZFPJcT",
      "metadata": {
        "id": "srmp0aZFPJcT"
      },
      "outputs": [],
      "source": [
        "dicta = dict()\n",
        "#mapping values\n",
        "def mapping(x):\n",
        "  j=1\n",
        "  for i in x.value_counts().sort_values(ascending=False).index:\n",
        "    dicta[i] = j\n",
        "    j+=1\n",
        "  return dicta"
      ]
    },
    {
      "cell_type": "code",
      "execution_count": null,
      "id": "7jYarKpYQKoU",
      "metadata": {
        "id": "7jYarKpYQKoU"
      },
      "outputs": [],
      "source": [
        "mapping(data['City'])\n",
        "data['City'] = data['City'].map(dicta)"
      ]
    },
    {
      "cell_type": "code",
      "execution_count": null,
      "id": "IgZ7MIcvPeP7",
      "metadata": {
        "id": "IgZ7MIcvPeP7"
      },
      "outputs": [],
      "source": [
        "mapping(data['State'])\n",
        "data['State'] = data['State'].map(dicta)"
      ]
    },
    {
      "cell_type": "code",
      "execution_count": null,
      "id": "zFw3uEezYxn0",
      "metadata": {
        "id": "zFw3uEezYxn0"
      },
      "outputs": [],
      "source": [
        "mapping(data['Make'])\n",
        "data['Make'] = data['Make'].map(dicta)"
      ]
    },
    {
      "cell_type": "code",
      "execution_count": null,
      "id": "wmjQsaLcZ5A1",
      "metadata": {
        "id": "wmjQsaLcZ5A1"
      },
      "outputs": [],
      "source": [
        "mapping(data['Model'])\n",
        "data['Model'] = data['Model'].map(dicta)"
      ]
    },
    {
      "cell_type": "code",
      "source": [
        "data.drop([\"Vin\"],axis=1,inplace=True)\n",
        "data.drop_duplicates(keep=False,inplace=True)"
      ],
      "metadata": {
        "id": "Ow0BxXhonhtQ"
      },
      "id": "Ow0BxXhonhtQ",
      "execution_count": null,
      "outputs": []
    },
    {
      "cell_type": "markdown",
      "id": "3103ed2a",
      "metadata": {
        "id": "3103ed2a"
      },
      "source": [
        "# Building Model\n"
      ]
    },
    {
      "cell_type": "code",
      "execution_count": null,
      "id": "9b2e8e14",
      "metadata": {
        "id": "9b2e8e14"
      },
      "outputs": [],
      "source": [
        "X=data.drop(['Price'],axis=1)\n",
        "Y=data['Price']"
      ]
    },
    {
      "cell_type": "code",
      "execution_count": null,
      "id": "151cf74f",
      "metadata": {
        "id": "151cf74f"
      },
      "outputs": [],
      "source": [
        "from sklearn.model_selection import train_test_split\n",
        "X_train,X_test,Y_train,Y_test = train_test_split(X,Y,train_size=0.7,random_state=42)"
      ]
    },
    {
      "cell_type": "code",
      "source": [
        "X_train,X_test,Y_train,Y_test = train_test_split(X.values,Y.values,train_size=0.7,random_state=42)"
      ],
      "metadata": {
        "id": "cBd7i_P9SyLf"
      },
      "id": "cBd7i_P9SyLf",
      "execution_count": null,
      "outputs": []
    },
    {
      "cell_type": "markdown",
      "source": [
        "# GB"
      ],
      "metadata": {
        "id": "GD-6IrTpCxU5"
      },
      "id": "GD-6IrTpCxU5"
    },
    {
      "cell_type": "code",
      "source": [
        "from sklearn.ensemble import GradientBoostingRegressor\n",
        "gb = GradientBoostingRegressor(learning_rate=0.16, max_depth=8,\n",
        "                          min_samples_leaf=10, n_estimators=1, random_state=42,\n",
        "                          verbose=True)\n",
        "gb.fit(X_train,Y_train)"
      ],
      "metadata": {
        "colab": {
          "base_uri": "https://localhost:8080/"
        },
        "id": "nxB4D8U1Cy-v",
        "outputId": "e5495ce4-ab5c-4f95-c03f-264db5fa6cf0"
      },
      "id": "nxB4D8U1Cy-v",
      "execution_count": 65,
      "outputs": [
        {
          "output_type": "stream",
          "name": "stdout",
          "text": [
            "      Iter       Train Loss   Remaining Time \n",
            "         1   102926667.9305            0.00s\n"
          ]
        },
        {
          "output_type": "execute_result",
          "data": {
            "text/plain": [
              "GradientBoostingRegressor(learning_rate=0.16, max_depth=8, min_samples_leaf=10,\n",
              "                          n_estimators=1, random_state=42, verbose=True)"
            ]
          },
          "metadata": {},
          "execution_count": 65
        }
      ]
    },
    {
      "cell_type": "code",
      "source": [
        "predict = gb.predict(X_test)"
      ],
      "metadata": {
        "id": "oX7wOAIoDuNX"
      },
      "id": "oX7wOAIoDuNX",
      "execution_count": 66,
      "outputs": []
    },
    {
      "cell_type": "code",
      "source": [
        "print('MAE:',metrics.mean_absolute_error(Y_test,predict))\n",
        "print('MSE:',metrics.mean_squared_error(Y_test,predict))\n",
        "print('RMSE:',np.sqrt(metrics.mean_squared_error(Y_test,predict)))\n",
        "print(f'Train Score : {gb.score(X_train, Y_train) * 100:.2f}% and Test Score : {gb.score(X_test, Y_test) * 100:.2f}% using XGBRegressor.')\n",
        "print('r2 score:',metrics.r2_score(Y_test,predict))"
      ],
      "metadata": {
        "id": "26gd2ksZDr2X"
      },
      "id": "26gd2ksZDr2X",
      "execution_count": null,
      "outputs": []
    },
    {
      "cell_type": "code",
      "source": [
        "gb2 = GradientBoostingRegressor(random_state=42,verbose =True,min_samples_leaf=10,max_depth = 8)\n",
        "gb2.fit(X_train,Y_train)\n",
        "predict = gb2.predict(X_test)\n",
        "print('MAE:',metrics.mean_absolute_error(Y_test,predict))\n",
        "print('MSE:',metrics.mean_squared_error(Y_test,predict))\n",
        "print('RMSE:',np.sqrt(metrics.mean_squared_error(Y_test,predict)))\n",
        "print(f'Train Score : {gb2.score(X_train, Y_train) * 100:.2f}% and Test Score : {gb2.score(X_test, Y_test) * 100:.2f}% using XGBRegressor.')\n",
        "print('r2 score:',metrics.r2_score(Y_test,predict))"
      ],
      "metadata": {
        "id": "GyYwuW6UEJ6x"
      },
      "id": "GyYwuW6UEJ6x",
      "execution_count": null,
      "outputs": []
    },
    {
      "cell_type": "code",
      "source": [
        "import pickle\n",
        "file = open('gb.pkl', 'wb')\n",
        "\n",
        "# dump information to that file\n",
        "pickle.dump(gb2, file)\n",
        "model = open('gb.pkl','rb')"
      ],
      "metadata": {
        "id": "qDGPSI3sIoBQ"
      },
      "id": "qDGPSI3sIoBQ",
      "execution_count": 71,
      "outputs": []
    },
    {
      "cell_type": "code",
      "source": [
        "m = pickle.load(model)\n",
        "y_prediction = m.predict(X_test)\n",
        "metrics.r2_score(Y_test, y_prediction)"
      ],
      "metadata": {
        "colab": {
          "base_uri": "https://localhost:8080/"
        },
        "id": "oSFMbjq_LyJm",
        "outputId": "5c009bc2-8c75-436e-b5ff-d687ca1ce42d"
      },
      "id": "oSFMbjq_LyJm",
      "execution_count": 72,
      "outputs": [
        {
          "output_type": "execute_result",
          "data": {
            "text/plain": [
              "0.8532152006208569"
            ]
          },
          "metadata": {},
          "execution_count": 72
        }
      ]
    },
    {
      "cell_type": "markdown",
      "id": "4abddd04",
      "metadata": {
        "id": "4abddd04"
      },
      "source": [
        "# XGBoost Regression"
      ]
    },
    {
      "cell_type": "code",
      "source": [
        "train = xgb.DMatrix(X_train, Y_train)\n",
        "test = xgb.DMatrix(X_test, Y_test)\n",
        "\n",
        "# We need to define parameters as dict\n",
        "params = {\n",
        "    \"colsample_bylevel\":0.7, \n",
        "    \"colsample_bynode\":1,\n",
        "    \"colsample_bytree\":0.4, \n",
        "    \"gamma\":0.4,\n",
        "    \"learning_rate\":0.3,\n",
        "    \"max_depth\":10,\n",
        "    \"min_child_weight\":5,\n",
        "    \"n_estimators\":1000,\n",
        "    \"n_jobs\":8,\n",
        "    \"num_parallel_tree\":1,\n",
        "    \"random_state\":30,\n",
        "    \"reg_alpha\":0.005,\n",
        "    \"reg_lambda\":1,\n",
        "    \"subsample\":0.8999999999999999\n",
        "}\n",
        "# training, we set the early stopping rounds parameter\n",
        "model_xgb = xgb.train(params, \n",
        "          train, evals=[(train, \"train\"), (test, \"validation\")], \n",
        "          num_boost_round=100, early_stopping_rounds=20)\n",
        "\n",
        "model_xgb.predict(xgb.DMatrix(X_test))\n"
      ],
      "metadata": {
        "id": "KtuyJlHcxGJi"
      },
      "id": "KtuyJlHcxGJi",
      "execution_count": null,
      "outputs": []
    },
    {
      "cell_type": "code",
      "source": [
        "# save to JSON\n",
        "model_xgb.save_model(\"xgb-dm.json\")\n",
        "# save to text format\n",
        "model_xgb.save_model(\"xgb-dm.txt\")"
      ],
      "metadata": {
        "id": "sSbrOvIq0S-q"
      },
      "id": "sSbrOvIq0S-q",
      "execution_count": null,
      "outputs": []
    },
    {
      "cell_type": "code",
      "source": [
        "model_xgb_2 = xgb.Booster()\n",
        "model_xgb_2.load_model(\"xgb-dm.json\")"
      ],
      "metadata": {
        "id": "gjmMPi7H0hLq"
      },
      "id": "gjmMPi7H0hLq",
      "execution_count": null,
      "outputs": []
    },
    {
      "cell_type": "code",
      "source": [
        "Y_prediction = model_xgb_2.predict(xgb.DMatrix(X_test))\n",
        "print(Y_prediction)\n",
        "metrics.r2_score(Y_test, Y_prediction)"
      ],
      "metadata": {
        "id": "0u00MaTe3gMe"
      },
      "id": "0u00MaTe3gMe",
      "execution_count": null,
      "outputs": []
    },
    {
      "cell_type": "code",
      "execution_count": null,
      "id": "10626591",
      "metadata": {
        "id": "10626591"
      },
      "outputs": [],
      "source": [
        "from xgboost import XGBRegressor\n",
        "xgb_model=XGBRegressor(colsample_bylevel=0.7, colsample_bynode=1, colsample_bytree=0.4, \n",
        "             gamma=0.4, learning_rate=0.3,max_depth=10, min_child_weight=5, \n",
        "             n_estimators=1000, n_jobs=8,num_parallel_tree=1,  random_state=30,\n",
        "             reg_alpha=0.005, reg_lambda=1,subsample=0.8999999999999999)\n",
        "xgb_model.fit(X_train, Y_train)\n",
        "predict = xgb_model.predict(X_test)"
      ]
    },
    {
      "cell_type": "code",
      "execution_count": null,
      "id": "ed9637fd",
      "metadata": {
        "id": "ed9637fd"
      },
      "outputs": [],
      "source": [
        "from sklearn import metrics\n",
        "print('MAE:',metrics.mean_absolute_error(Y_test,predict))\n",
        "print('MSE:',metrics.mean_squared_error(Y_test,predict))\n",
        "print('RMSE:',np.sqrt(metrics.mean_squared_error(Y_test,predict)))\n",
        "print(f'Train Score : {xgb_model.score(X_train, Y_train) * 100:.2f}% and Test Score : {xgb_model.score(X_test, Y_test) * 100:.2f}% using XGBRegressor.')\n",
        "print('r2 score:',metrics.r2_score(Y_test,predict))"
      ]
    },
    {
      "cell_type": "code",
      "source": [
        "# save in JSON format\n",
        "xgb_model.save_model(\"xgb.json\")\n",
        "# save in text format\n",
        "xgb_model.save_model(\"xgb.txt\")"
      ],
      "metadata": {
        "id": "s08bU4fjquhu"
      },
      "id": "s08bU4fjquhu",
      "execution_count": null,
      "outputs": []
    },
    {
      "cell_type": "code",
      "source": [
        "model = XGBRegressor()\n",
        "model.load_model(\"xgb.json\")"
      ],
      "metadata": {
        "id": "w5SF2svRuR8B"
      },
      "id": "w5SF2svRuR8B",
      "execution_count": null,
      "outputs": []
    },
    {
      "cell_type": "code",
      "source": [
        "Y_prediction = model.predict(X_test)\n",
        "metrics.r2_score(Y_test, Y_prediction)"
      ],
      "metadata": {
        "id": "J1gA_KjOuzMS"
      },
      "id": "J1gA_KjOuzMS",
      "execution_count": null,
      "outputs": []
    },
    {
      "cell_type": "code",
      "source": [
        "from xgboost import Booster\n",
        "model_xgb_2 = Booster()\n",
        "model_xgb_2.load_model(\"xgb.json\")"
      ],
      "metadata": {
        "id": "SoBSdSvowBE7"
      },
      "id": "SoBSdSvowBE7",
      "execution_count": null,
      "outputs": []
    },
    {
      "cell_type": "code",
      "source": [
        "Y_prediction = model_xgb_2.predict(X_test)\n",
        "metrics.r2_score(Y_test, Y_prediction)"
      ],
      "metadata": {
        "id": "Kwdqgs9DwJ9b"
      },
      "id": "Kwdqgs9DwJ9b",
      "execution_count": null,
      "outputs": []
    },
    {
      "cell_type": "code",
      "source": [
        ""
      ],
      "metadata": {
        "id": "_sipzbmhDbJN"
      },
      "id": "_sipzbmhDbJN",
      "execution_count": null,
      "outputs": []
    }
  ],
  "metadata": {
    "colab": {
      "collapsed_sections": [],
      "name": "FInal.ipynb",
      "provenance": []
    },
    "kernelspec": {
      "display_name": "Python 3 (ipykernel)",
      "language": "python",
      "name": "python3"
    },
    "language_info": {
      "codemirror_mode": {
        "name": "ipython",
        "version": 3
      },
      "file_extension": ".py",
      "mimetype": "text/x-python",
      "name": "python",
      "nbconvert_exporter": "python",
      "pygments_lexer": "ipython3",
      "version": "3.9.7"
    }
  },
  "nbformat": 4,
  "nbformat_minor": 5
}